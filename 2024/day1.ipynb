{
 "cells": [
  {
   "cell_type": "code",
   "execution_count": 8,
   "id": "7bb29572",
   "metadata": {},
   "outputs": [
    {
     "name": "stdout",
     "output_type": "stream",
     "text": [
      "1660292\n"
     ]
    }
   ],
   "source": [
    "# Part ONE\n",
    "\n",
    "input = open(\"input1.txt\", \"r\")\n",
    "\n",
    "\n",
    "# read input data into 2 parallel lists\n",
    "list1 = []\n",
    "list2 = []\n",
    "\n",
    "for line in input:\n",
    "    values = line.split()\n",
    "    list1.append(int(values[0]))\n",
    "    list2.append(int(values[1]))\n",
    "\n",
    "    \n",
    "# sort lists\n",
    "list1.sort()\n",
    "list2.sort()\n",
    "\n",
    "\n",
    "# compute distances and their sum\n",
    "distance = 0\n",
    "total_dist = 0\n",
    "for i in range(len(list1)):\n",
    "    distance = abs(list1[i] - list2[i])\n",
    "    total_dist += distance\n",
    "\n",
    "print(total_dist)\n"
   ]
  },
  {
   "cell_type": "code",
   "execution_count": 12,
   "id": "7c739ae7",
   "metadata": {},
   "outputs": [
    {
     "name": "stdout",
     "output_type": "stream",
     "text": [
      "22776016\n"
     ]
    }
   ],
   "source": [
    "# Part TWO\n",
    "\n",
    "# initialize dict. key: unique values in list1. value: counter of occurrences in list2\n",
    "similarities = {}\n",
    "\n",
    "# fill dictionary with unique values from list 1\n",
    "for item in list1:\n",
    "    if item not in similarities:\n",
    "        similarities[item] = 0\n",
    "\n",
    "# count occurrences of these values in list 2\n",
    "for item in list2:\n",
    "    if item in similarities:\n",
    "        similarities[item] += 1\n",
    "\n",
    "# Compute similarity score\n",
    "simscore = 0\n",
    "\n",
    "for key in similarities:\n",
    "    simscore += key*similarities[key] \n",
    "\n",
    "\n",
    "print(simscore)"
   ]
  },
  {
   "cell_type": "code",
   "execution_count": 13,
   "id": "b07ac404",
   "metadata": {},
   "outputs": [],
   "source": [
    "input.close()"
   ]
  }
 ],
 "metadata": {
  "kernelspec": {
   "display_name": "Python 3 (ipykernel)",
   "language": "python",
   "name": "python3"
  },
  "language_info": {
   "codemirror_mode": {
    "name": "ipython",
    "version": 3
   },
   "file_extension": ".py",
   "mimetype": "text/x-python",
   "name": "python",
   "nbconvert_exporter": "python",
   "pygments_lexer": "ipython3",
   "version": "3.11.5"
  }
 },
 "nbformat": 4,
 "nbformat_minor": 5
}

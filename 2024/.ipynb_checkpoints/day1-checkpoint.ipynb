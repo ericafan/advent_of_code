{
 "cells": [
  {
   "cell_type": "code",
   "execution_count": 8,
   "id": "2e816625",
   "metadata": {},
   "outputs": [
    {
     "name": "stdout",
     "output_type": "stream",
     "text": [
      "1660292\n"
     ]
    }
   ],
   "source": [
    "# Part ONE\n",
    "\n",
    "input = open(\"input1.txt\", \"r\")\n",
    "\n",
    "\n",
    "# read input data into 2 parallel lists\n",
    "list1 = []\n",
    "list2 = []\n",
    "\n",
    "for line in input:\n",
    "    values = line.split()\n",
    "    list1.append(int(values[0]))\n",
    "    list2.append(int(values[1]))\n",
    "\n",
    "    \n",
    "# sort lists\n",
    "list1.sort()\n",
    "list2.sort()\n",
    "\n",
    "\n",
    "# compute distances and their sum\n",
    "distance = 0\n",
    "total_dist = 0\n",
    "for i in range(len(list1)):\n",
    "    distance = abs(list1[i] - list2[i])\n",
    "    total_dist += distance\n",
    "\n",
    "print(total_dist)\n"
   ]
  },
  {
   "cell_type": "code",
   "execution_count": null,
   "id": "a7201acb",
   "metadata": {},
   "outputs": [],
   "source": [
    "# Part TWO\n",
    "\n",
    "# initialize dict\n",
    "similarities = {}"
   ]
  },
  {
   "cell_type": "code",
   "execution_count": 6,
   "id": "e39db9f5",
   "metadata": {},
   "outputs": [],
   "source": [
    "input.close()"
   ]
  }
 ],
 "metadata": {
  "kernelspec": {
   "display_name": "Python 3 (ipykernel)",
   "language": "python",
   "name": "python3"
  },
  "language_info": {
   "codemirror_mode": {
    "name": "ipython",
    "version": 3
   },
   "file_extension": ".py",
   "mimetype": "text/x-python",
   "name": "python",
   "nbconvert_exporter": "python",
   "pygments_lexer": "ipython3",
   "version": "3.11.5"
  }
 },
 "nbformat": 4,
 "nbformat_minor": 5
}
